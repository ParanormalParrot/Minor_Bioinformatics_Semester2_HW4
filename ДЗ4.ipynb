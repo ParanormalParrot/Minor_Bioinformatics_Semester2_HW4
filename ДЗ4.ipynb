{
  "cells": [
    {
      "cell_type": "code",
      "execution_count": 1,
      "metadata": {
        "id": "N9fTtqVHZxMT"
      },
      "outputs": [],
      "source": [
        "!chmod a+x zhunt3-alan.c"
      ]
    },
    {
      "cell_type": "code",
      "execution_count": 2,
      "metadata": {
        "colab": {
          "base_uri": "https://localhost:8080/"
        },
        "id": "giko1xYbZyry",
        "outputId": "897c976b-bc04-4c88-a28f-5b6c81c997f6"
      },
      "outputs": [
        {
          "output_type": "stream",
          "name": "stdout",
          "text": [
            "\u001b[01m\u001b[Kzhunt3-alan.c:\u001b[m\u001b[K In function ‘\u001b[01m\u001b[Kuser_regret\u001b[m\u001b[K’:\n",
            "\u001b[01m\u001b[Kzhunt3-alan.c:303:7:\u001b[m\u001b[K \u001b[01;35m\u001b[Kwarning: \u001b[m\u001b[Kimplicit declaration of function ‘\u001b[01m\u001b[Kgets\u001b[m\u001b[K’; did you mean ‘\u001b[01m\u001b[Kfgets\u001b[m\u001b[K’? [\u001b[01;35m\u001b[K-Wimplicit-function-declaration\u001b[m\u001b[K]\n",
            "  303 |       \u001b[01;35m\u001b[Kgets\u001b[m\u001b[K( tempstr );\n",
            "      |       \u001b[01;35m\u001b[K^~~~\u001b[m\u001b[K\n",
            "      |       \u001b[32m\u001b[Kfgets\u001b[m\u001b[K\n",
            "/usr/bin/ld: /tmp/cchmp4pJ.o: in function `user_regret':\n",
            "zhunt3-alan.c:(.text+0xba7): warning: the `gets' function is dangerous and should not be used.\n"
          ]
        }
      ],
      "source": [
        "!gcc zhunt3-alan.c -lm -o zhunt3"
      ]
    },
    {
      "cell_type": "code",
      "execution_count": 3,
      "metadata": {
        "colab": {
          "base_uri": "https://localhost:8080/"
        },
        "id": "I0TOh69EauHJ",
        "outputId": "fd9714c6-2566-4d6f-bf78-f1a8676f5fb1"
      },
      "outputs": [
        {
          "output_type": "stream",
          "name": "stdout",
          "text": [
            "Looking in indexes: https://pypi.org/simple, https://us-python.pkg.dev/colab-wheels/public/simple/\n",
            "Collecting biopython\n",
            "  Downloading biopython-1.81-cp310-cp310-manylinux_2_17_x86_64.manylinux2014_x86_64.whl (3.1 MB)\n",
            "\u001b[2K     \u001b[90m━━━━━━━━━━━━━━━━━━━━━━━━━━━━━━━━━━━━━━━━\u001b[0m \u001b[32m3.1/3.1 MB\u001b[0m \u001b[31m39.4 MB/s\u001b[0m eta \u001b[36m0:00:00\u001b[0m\n",
            "\u001b[?25hRequirement already satisfied: numpy in /usr/local/lib/python3.10/dist-packages (from biopython) (1.22.4)\n",
            "Installing collected packages: biopython\n",
            "Successfully installed biopython-1.81\n"
          ]
        }
      ],
      "source": [
        "!pip install biopython"
      ]
    },
    {
      "cell_type": "code",
      "execution_count": 4,
      "metadata": {
        "id": "fswsvibba68l"
      },
      "outputs": [],
      "source": [
        "import Bio"
      ]
    },
    {
      "cell_type": "code",
      "execution_count": 5,
      "metadata": {
        "id": "Q6f0wqeAa-Iv"
      },
      "outputs": [],
      "source": [
        "from Bio import SeqIO"
      ]
    },
    {
      "cell_type": "code",
      "execution_count": 6,
      "metadata": {
        "colab": {
          "base_uri": "https://localhost:8080/"
        },
        "id": "TTihJ2j5bgr0",
        "outputId": "93117a3b-d310-4be8-f18a-a8d3b568796a"
      },
      "outputs": [
        {
          "output_type": "stream",
          "name": "stdout",
          "text": [
            "--2023-06-08 16:27:19--  https://hgdownload.soe.ucsc.edu/goldenPath/galGal6/bigZips/galGal6.fa.gz\n",
            "Resolving hgdownload.soe.ucsc.edu (hgdownload.soe.ucsc.edu)... 128.114.119.163\n",
            "Connecting to hgdownload.soe.ucsc.edu (hgdownload.soe.ucsc.edu)|128.114.119.163|:443... connected.\n",
            "HTTP request sent, awaiting response... 200 OK\n",
            "Length: 347959049 (332M) [application/x-gzip]\n",
            "Saving to: ‘galGal6.fa.gz’\n",
            "\n",
            "galGal6.fa.gz       100%[===================>] 331.84M   136MB/s    in 2.4s    \n",
            "\n",
            "2023-06-08 16:27:22 (136 MB/s) - ‘galGal6.fa.gz’ saved [347959049/347959049]\n",
            "\n"
          ]
        }
      ],
      "source": [
        "!wget https://hgdownload.soe.ucsc.edu/goldenPath/galGal6/bigZips/galGal6.fa.gz"
      ]
    },
    {
      "cell_type": "code",
      "execution_count": 7,
      "metadata": {
        "id": "UZvs9aTIddUI"
      },
      "outputs": [],
      "source": [
        "!gunzip -d galGal6.fa.gz"
      ]
    },
    {
      "cell_type": "code",
      "source": [],
      "metadata": {
        "id": "gC8af9dx2uEz"
      },
      "execution_count": null,
      "outputs": []
    },
    {
      "cell_type": "code",
      "execution_count": 8,
      "metadata": {
        "id": "toNxn6zseFlg"
      },
      "outputs": [],
      "source": [
        "input_file=\"galGal6.fa\" \n",
        "fasta_sequence = SeqIO.parse(input_file,'fasta')\n",
        "for record in SeqIO.parse(input_file, \"fasta\"): \n",
        "    if record.id == \"chr20\":\n",
        "        with open(f\"{record.id}.fa\", \"w\") as file:\n",
        "            SeqIO.write(record, file, \"fasta\")\n",
        "        sequence=str(record.seq)\n",
        "        break"
      ]
    },
    {
      "cell_type": "code",
      "execution_count": 19,
      "metadata": {
        "colab": {
          "base_uri": "https://localhost:8080/"
        },
        "id": "_pjioaDjfoj5",
        "outputId": "d0543791-2e2d-413b-ac0c-fb8893886511"
      },
      "outputs": [
        {
          "output_type": "stream",
          "name": "stdout",
          "text": [
            "dinucleotides 12\n",
            "min/max 8 12\n",
            "min/max 8 12\n",
            "operating on chr20.fa\n",
            "calculating zscore\n",
            "opening chr20.fa\n",
            "inputting sequence\n",
            "opening chr20.fa.Z-SCORE\n",
            "^C\n"
          ]
        }
      ],
      "source": [
        "!./zhunt3 12 8 12 chr20.fa chr20"
      ]
    },
    {
      "cell_type": "code",
      "execution_count": 11,
      "metadata": {
        "id": "kzjU9ogQICmk"
      },
      "outputs": [],
      "source": [
        "import pandas as pd"
      ]
    },
    {
      "cell_type": "markdown",
      "source": [
        "1. Выбираем колонки с Z-score >= 400"
      ],
      "metadata": {
        "id": "cBDDrnLOwD95"
      }
    },
    {
      "cell_type": "code",
      "execution_count": 24,
      "metadata": {
        "colab": {
          "base_uri": "https://localhost:8080/",
          "height": 423
        },
        "id": "BpUtOrhUIGXb",
        "outputId": "d97d1675-44be-4757-8b27-2e68018cf7c4"
      },
      "outputs": [
        {
          "output_type": "display_data",
          "data": {
            "text/plain": [
              "             Start       End   1       2       3      Score  \\\n",
              "24317        24318     24338  20  21.904  41.248   456.1458   \n",
              "24319        24320     24338  18  21.711  42.703   571.7723   \n",
              "24321        24322     24338  16  21.519  43.304   719.0200   \n",
              "24323        24324     24340  16  21.526  42.857   712.1870   \n",
              "24325        24326     24342  16  21.527  42.829   711.6643   \n",
              "...            ...       ...  ..     ...     ...        ...   \n",
              "13894027  13894028  13894046  18  21.006  43.114  1354.1140   \n",
              "13894028  13894029  13894045  16  20.261  40.043  3612.6780   \n",
              "13894029  13894030  13894048  18  21.069  42.486  1250.6400   \n",
              "13894831  13894832  13894850  18  21.979  51.240   418.3883   \n",
              "13894833  13894834  13894850  16  21.835  50.696   494.4875   \n",
              "\n",
              "                           Seq                     4  \n",
              "24317     gcttgcgttgcgcaggcgtg  SASASAASASASASASASAS  \n",
              "24319       ttgcgttgcgcaggcgtg    SASAASASASASASASAS  \n",
              "24321         gcgttgcgcaggcgtg      SAASASASASASASAS  \n",
              "24323         gttgcgcaggcgtggc      ASASASASASASASSA  \n",
              "24325         tgcgcaggcgtggcct      ASASASASASASSASA  \n",
              "...                        ...                   ...  \n",
              "13894027    tcgcgcatgcgtactgcc    SASASASASASASASASA  \n",
              "13894028      cgcgcatgcgtactgc      ASASASASASASSASA  \n",
              "13894029    gcgcatgcgtactgccgt    SASASASASASASASASA  \n",
              "13894831    agcccacacgggcatggg    ASASASASASASASASAS  \n",
              "13894833      cccacacgggcatggg      ASASASASASASASAS  \n",
              "\n",
              "[36086 rows x 8 columns]"
            ],
            "text/html": [
              "\n",
              "  <div id=\"df-f858ba9a-ff32-482c-adb8-9086556ebd6e\">\n",
              "    <div class=\"colab-df-container\">\n",
              "      <div>\n",
              "<style scoped>\n",
              "    .dataframe tbody tr th:only-of-type {\n",
              "        vertical-align: middle;\n",
              "    }\n",
              "\n",
              "    .dataframe tbody tr th {\n",
              "        vertical-align: top;\n",
              "    }\n",
              "\n",
              "    .dataframe thead th {\n",
              "        text-align: right;\n",
              "    }\n",
              "</style>\n",
              "<table border=\"1\" class=\"dataframe\">\n",
              "  <thead>\n",
              "    <tr style=\"text-align: right;\">\n",
              "      <th></th>\n",
              "      <th>Start</th>\n",
              "      <th>End</th>\n",
              "      <th>1</th>\n",
              "      <th>2</th>\n",
              "      <th>3</th>\n",
              "      <th>Score</th>\n",
              "      <th>Seq</th>\n",
              "      <th>4</th>\n",
              "    </tr>\n",
              "  </thead>\n",
              "  <tbody>\n",
              "    <tr>\n",
              "      <th>24317</th>\n",
              "      <td>24318</td>\n",
              "      <td>24338</td>\n",
              "      <td>20</td>\n",
              "      <td>21.904</td>\n",
              "      <td>41.248</td>\n",
              "      <td>456.1458</td>\n",
              "      <td>gcttgcgttgcgcaggcgtg</td>\n",
              "      <td>SASASAASASASASASASAS</td>\n",
              "    </tr>\n",
              "    <tr>\n",
              "      <th>24319</th>\n",
              "      <td>24320</td>\n",
              "      <td>24338</td>\n",
              "      <td>18</td>\n",
              "      <td>21.711</td>\n",
              "      <td>42.703</td>\n",
              "      <td>571.7723</td>\n",
              "      <td>ttgcgttgcgcaggcgtg</td>\n",
              "      <td>SASAASASASASASASAS</td>\n",
              "    </tr>\n",
              "    <tr>\n",
              "      <th>24321</th>\n",
              "      <td>24322</td>\n",
              "      <td>24338</td>\n",
              "      <td>16</td>\n",
              "      <td>21.519</td>\n",
              "      <td>43.304</td>\n",
              "      <td>719.0200</td>\n",
              "      <td>gcgttgcgcaggcgtg</td>\n",
              "      <td>SAASASASASASASAS</td>\n",
              "    </tr>\n",
              "    <tr>\n",
              "      <th>24323</th>\n",
              "      <td>24324</td>\n",
              "      <td>24340</td>\n",
              "      <td>16</td>\n",
              "      <td>21.526</td>\n",
              "      <td>42.857</td>\n",
              "      <td>712.1870</td>\n",
              "      <td>gttgcgcaggcgtggc</td>\n",
              "      <td>ASASASASASASASSA</td>\n",
              "    </tr>\n",
              "    <tr>\n",
              "      <th>24325</th>\n",
              "      <td>24326</td>\n",
              "      <td>24342</td>\n",
              "      <td>16</td>\n",
              "      <td>21.527</td>\n",
              "      <td>42.829</td>\n",
              "      <td>711.6643</td>\n",
              "      <td>tgcgcaggcgtggcct</td>\n",
              "      <td>ASASASASASASSASA</td>\n",
              "    </tr>\n",
              "    <tr>\n",
              "      <th>...</th>\n",
              "      <td>...</td>\n",
              "      <td>...</td>\n",
              "      <td>...</td>\n",
              "      <td>...</td>\n",
              "      <td>...</td>\n",
              "      <td>...</td>\n",
              "      <td>...</td>\n",
              "      <td>...</td>\n",
              "    </tr>\n",
              "    <tr>\n",
              "      <th>13894027</th>\n",
              "      <td>13894028</td>\n",
              "      <td>13894046</td>\n",
              "      <td>18</td>\n",
              "      <td>21.006</td>\n",
              "      <td>43.114</td>\n",
              "      <td>1354.1140</td>\n",
              "      <td>tcgcgcatgcgtactgcc</td>\n",
              "      <td>SASASASASASASASASA</td>\n",
              "    </tr>\n",
              "    <tr>\n",
              "      <th>13894028</th>\n",
              "      <td>13894029</td>\n",
              "      <td>13894045</td>\n",
              "      <td>16</td>\n",
              "      <td>20.261</td>\n",
              "      <td>40.043</td>\n",
              "      <td>3612.6780</td>\n",
              "      <td>cgcgcatgcgtactgc</td>\n",
              "      <td>ASASASASASASSASA</td>\n",
              "    </tr>\n",
              "    <tr>\n",
              "      <th>13894029</th>\n",
              "      <td>13894030</td>\n",
              "      <td>13894048</td>\n",
              "      <td>18</td>\n",
              "      <td>21.069</td>\n",
              "      <td>42.486</td>\n",
              "      <td>1250.6400</td>\n",
              "      <td>gcgcatgcgtactgccgt</td>\n",
              "      <td>SASASASASASASASASA</td>\n",
              "    </tr>\n",
              "    <tr>\n",
              "      <th>13894831</th>\n",
              "      <td>13894832</td>\n",
              "      <td>13894850</td>\n",
              "      <td>18</td>\n",
              "      <td>21.979</td>\n",
              "      <td>51.240</td>\n",
              "      <td>418.3883</td>\n",
              "      <td>agcccacacgggcatggg</td>\n",
              "      <td>ASASASASASASASASAS</td>\n",
              "    </tr>\n",
              "    <tr>\n",
              "      <th>13894833</th>\n",
              "      <td>13894834</td>\n",
              "      <td>13894850</td>\n",
              "      <td>16</td>\n",
              "      <td>21.835</td>\n",
              "      <td>50.696</td>\n",
              "      <td>494.4875</td>\n",
              "      <td>cccacacgggcatggg</td>\n",
              "      <td>ASASASASASASASAS</td>\n",
              "    </tr>\n",
              "  </tbody>\n",
              "</table>\n",
              "<p>36086 rows × 8 columns</p>\n",
              "</div>\n",
              "      <button class=\"colab-df-convert\" onclick=\"convertToInteractive('df-f858ba9a-ff32-482c-adb8-9086556ebd6e')\"\n",
              "              title=\"Convert this dataframe to an interactive table.\"\n",
              "              style=\"display:none;\">\n",
              "        \n",
              "  <svg xmlns=\"http://www.w3.org/2000/svg\" height=\"24px\"viewBox=\"0 0 24 24\"\n",
              "       width=\"24px\">\n",
              "    <path d=\"M0 0h24v24H0V0z\" fill=\"none\"/>\n",
              "    <path d=\"M18.56 5.44l.94 2.06.94-2.06 2.06-.94-2.06-.94-.94-2.06-.94 2.06-2.06.94zm-11 1L8.5 8.5l.94-2.06 2.06-.94-2.06-.94L8.5 2.5l-.94 2.06-2.06.94zm10 10l.94 2.06.94-2.06 2.06-.94-2.06-.94-.94-2.06-.94 2.06-2.06.94z\"/><path d=\"M17.41 7.96l-1.37-1.37c-.4-.4-.92-.59-1.43-.59-.52 0-1.04.2-1.43.59L10.3 9.45l-7.72 7.72c-.78.78-.78 2.05 0 2.83L4 21.41c.39.39.9.59 1.41.59.51 0 1.02-.2 1.41-.59l7.78-7.78 2.81-2.81c.8-.78.8-2.07 0-2.86zM5.41 20L4 18.59l7.72-7.72 1.47 1.35L5.41 20z\"/>\n",
              "  </svg>\n",
              "      </button>\n",
              "      \n",
              "  <style>\n",
              "    .colab-df-container {\n",
              "      display:flex;\n",
              "      flex-wrap:wrap;\n",
              "      gap: 12px;\n",
              "    }\n",
              "\n",
              "    .colab-df-convert {\n",
              "      background-color: #E8F0FE;\n",
              "      border: none;\n",
              "      border-radius: 50%;\n",
              "      cursor: pointer;\n",
              "      display: none;\n",
              "      fill: #1967D2;\n",
              "      height: 32px;\n",
              "      padding: 0 0 0 0;\n",
              "      width: 32px;\n",
              "    }\n",
              "\n",
              "    .colab-df-convert:hover {\n",
              "      background-color: #E2EBFA;\n",
              "      box-shadow: 0px 1px 2px rgba(60, 64, 67, 0.3), 0px 1px 3px 1px rgba(60, 64, 67, 0.15);\n",
              "      fill: #174EA6;\n",
              "    }\n",
              "\n",
              "    [theme=dark] .colab-df-convert {\n",
              "      background-color: #3B4455;\n",
              "      fill: #D2E3FC;\n",
              "    }\n",
              "\n",
              "    [theme=dark] .colab-df-convert:hover {\n",
              "      background-color: #434B5C;\n",
              "      box-shadow: 0px 1px 3px 1px rgba(0, 0, 0, 0.15);\n",
              "      filter: drop-shadow(0px 1px 2px rgba(0, 0, 0, 0.3));\n",
              "      fill: #FFFFFF;\n",
              "    }\n",
              "  </style>\n",
              "\n",
              "      <script>\n",
              "        const buttonEl =\n",
              "          document.querySelector('#df-f858ba9a-ff32-482c-adb8-9086556ebd6e button.colab-df-convert');\n",
              "        buttonEl.style.display =\n",
              "          google.colab.kernel.accessAllowed ? 'block' : 'none';\n",
              "\n",
              "        async function convertToInteractive(key) {\n",
              "          const element = document.querySelector('#df-f858ba9a-ff32-482c-adb8-9086556ebd6e');\n",
              "          const dataTable =\n",
              "            await google.colab.kernel.invokeFunction('convertToInteractive',\n",
              "                                                     [key], {});\n",
              "          if (!dataTable) return;\n",
              "\n",
              "          const docLinkHtml = 'Like what you see? Visit the ' +\n",
              "            '<a target=\"_blank\" href=https://colab.research.google.com/notebooks/data_table.ipynb>data table notebook</a>'\n",
              "            + ' to learn more about interactive tables.';\n",
              "          element.innerHTML = '';\n",
              "          dataTable['output_type'] = 'display_data';\n",
              "          await google.colab.output.renderOutput(dataTable, element);\n",
              "          const docLink = document.createElement('div');\n",
              "          docLink.innerHTML = docLinkHtml;\n",
              "          element.appendChild(docLink);\n",
              "        }\n",
              "      </script>\n",
              "    </div>\n",
              "  </div>\n",
              "  "
            ]
          },
          "metadata": {}
        }
      ],
      "source": [
        "\n",
        "z=pd.read_csv(\"chr20.fa.Z-SCORE\", skiprows=1, names=[\"Start\",\"End\",\"1\",\"2\",\"3\",\"Score\",\"Seq\",\"4\"], delim_whitespace=True)\n",
        "\n",
        "res = z.loc[z['Score'] >= 400]\n",
        "display(res)"
      ]
    },
    {
      "cell_type": "markdown",
      "source": [
        "В полученной таблице 36086 строк - 36086 z-днк"
      ],
      "metadata": {
        "id": "EMqq1V9lo0VF"
      }
    },
    {
      "cell_type": "markdown",
      "source": [
        "2. Найдём количество квадруплексов на положительном стренде:"
      ],
      "metadata": {
        "id": "dEZ7sv-ho6RA"
      }
    },
    {
      "cell_type": "code",
      "source": [
        "import re #для работы с регулярными выражениями \n",
        "input_file=\"chr20.fa\" #путь к файлу\n",
        "fasta_sequence = SeqIO.parse(input_file,'fasta') #импортируем fasta файл\n",
        "for record in SeqIO.parse(input_file, \"fasta\"):  #для каждой записи из файла \n",
        " name, sequence = record.id, str(record.seq) \n",
        "pattern=\"(?:G{3,}[ATGC]{1,7}){3,}G{3,}\" #шаблон стандартного квадруплекса на + стренде\n",
        "PQS=[[m.start(),m.end(),m.group(0)] for m in re.finditer(pattern,sequence,re.IGNORECASE)] #re.IGNORECASE отвечает за игнорирования отличий между заглавными и строчными буквами\n",
        "len(PQS) #выводим число найденных квадруплексов\n"
      ],
      "metadata": {
        "id": "Za-1IuAwJszl",
        "colab": {
          "base_uri": "https://localhost:8080/"
        },
        "outputId": "05da34e9-2765-4222-dadb-d1ca8728604b"
      },
      "execution_count": 52,
      "outputs": [
        {
          "output_type": "execute_result",
          "data": {
            "text/plain": [
              "1554"
            ]
          },
          "metadata": {},
          "execution_count": 52
        }
      ]
    },
    {
      "cell_type": "markdown",
      "source": [
        "На отрицательном:"
      ],
      "metadata": {
        "id": "ZZ44rVBMxLt6"
      }
    },
    {
      "cell_type": "code",
      "source": [
        "pattern_C=\"(?:C{3,}[ATGC]{1,7}){3,}C{3,}\"\n",
        "PQS_minus=[[m.start(),m.end(),m.group(0)] for m in re.finditer(pattern_C,sequence,re.IGNORECASE)] #re.IGNORECASE отвечает за игнорирования отличий между заглавными и строчными буквами\n",
        "len(PQS_minus) #выводим число найденных квадруплексов"
      ],
      "metadata": {
        "colab": {
          "base_uri": "https://localhost:8080/"
        },
        "id": "iipVDUKWPuGP",
        "outputId": "710b66e3-8e2b-423f-9a56-a7fd5a394baa"
      },
      "execution_count": 53,
      "outputs": [
        {
          "output_type": "execute_result",
          "data": {
            "text/plain": [
              "1439"
            ]
          },
          "metadata": {},
          "execution_count": 53
        }
      ]
    },
    {
      "cell_type": "markdown",
      "source": [
        "Всего квадруплексов:"
      ],
      "metadata": {
        "id": "u-r4Ni6ZxSW2"
      }
    },
    {
      "cell_type": "code",
      "source": [
        "G4 = PQS + PQS_minus\n",
        "len(G4)"
      ],
      "metadata": {
        "colab": {
          "base_uri": "https://localhost:8080/"
        },
        "id": "NRI6O9oAQCX3",
        "outputId": "a7f13821-da6e-43a9-cd30-d2f76cb86616"
      },
      "execution_count": 58,
      "outputs": [
        {
          "output_type": "execute_result",
          "data": {
            "text/plain": [
              "2993"
            ]
          },
          "metadata": {},
          "execution_count": 58
        }
      ]
    },
    {
      "cell_type": "markdown",
      "source": [
        "3."
      ],
      "metadata": {
        "id": "_dwlepz9zf3_"
      }
    },
    {
      "cell_type": "code",
      "source": [
        "table = pd.read_csv(\"Genes  NCBI Gallus gallus Annotation Release 104  2018-05-17.CSV\", skiprows=2, names=[\"Accession\",\"Start\",\"Stop\",\"Gene symbol\",\"Strand\",\"NCBI Gene ID\",\"Name\"], sep = \",\")\n",
        "display(table)\n"
      ],
      "metadata": {
        "colab": {
          "base_uri": "https://localhost:8080/",
          "height": 423
        },
        "id": "OFjOzOWbQ9DS",
        "outputId": "74297e56-5537-46f6-be30-f31666f44e5e"
      },
      "execution_count": 37,
      "outputs": [
        {
          "output_type": "display_data",
          "data": {
            "text/plain": [
              "       Accession     Start      Stop Gene symbol Strand  NCBI Gene ID  \\\n",
              "0    NC_006107.5     71558     75275     IGSF1L3   plus        419114   \n",
              "1    NC_006107.5     76641     93864     L3MBTL1  minus        419115   \n",
              "2    NC_006107.5    119215    123854       SRSF6  minus        419116   \n",
              "3    NC_006107.5    187678    257245     EPB41L1   plus        419117   \n",
              "4    NC_006107.5    256427    296024        AAR2   plus        419118   \n",
              "..           ...       ...       ...         ...    ...           ...   \n",
              "451  NC_006107.5  13795911  13801004      RNF114  minus        414881   \n",
              "452  NC_006107.5  13801269  13807900      SPATA2   plus        419355   \n",
              "453  NC_006107.5  13817409  13817494     MIR1648   plus     100315762   \n",
              "454  NC_006107.5  13824723  13847411      SLC9A8  minus        419356   \n",
              "455  NC_006107.5  13861484  13888405     B4GALT5   plus     107054826   \n",
              "\n",
              "                                           Name  \n",
              "0    immunoglobulin superfamily member 1-like 3  \n",
              "1                                           NaN  \n",
              "2        serine/arginine-rich splicing factor 6  \n",
              "3                                           NaN  \n",
              "4                  AAR2 splicing factor homolog  \n",
              "..                                          ...  \n",
              "451                     ring finger protein 114  \n",
              "452                spermatogenesis associated 2  \n",
              "453                               microRNA 1648  \n",
              "454           solute carrier family 9 member A8  \n",
              "455                                         NaN  \n",
              "\n",
              "[456 rows x 7 columns]"
            ],
            "text/html": [
              "\n",
              "  <div id=\"df-9f7efde7-8d2e-42fd-a28f-11aa3786964e\">\n",
              "    <div class=\"colab-df-container\">\n",
              "      <div>\n",
              "<style scoped>\n",
              "    .dataframe tbody tr th:only-of-type {\n",
              "        vertical-align: middle;\n",
              "    }\n",
              "\n",
              "    .dataframe tbody tr th {\n",
              "        vertical-align: top;\n",
              "    }\n",
              "\n",
              "    .dataframe thead th {\n",
              "        text-align: right;\n",
              "    }\n",
              "</style>\n",
              "<table border=\"1\" class=\"dataframe\">\n",
              "  <thead>\n",
              "    <tr style=\"text-align: right;\">\n",
              "      <th></th>\n",
              "      <th>Accession</th>\n",
              "      <th>Start</th>\n",
              "      <th>Stop</th>\n",
              "      <th>Gene symbol</th>\n",
              "      <th>Strand</th>\n",
              "      <th>NCBI Gene ID</th>\n",
              "      <th>Name</th>\n",
              "    </tr>\n",
              "  </thead>\n",
              "  <tbody>\n",
              "    <tr>\n",
              "      <th>0</th>\n",
              "      <td>NC_006107.5</td>\n",
              "      <td>71558</td>\n",
              "      <td>75275</td>\n",
              "      <td>IGSF1L3</td>\n",
              "      <td>plus</td>\n",
              "      <td>419114</td>\n",
              "      <td>immunoglobulin superfamily member 1-like 3</td>\n",
              "    </tr>\n",
              "    <tr>\n",
              "      <th>1</th>\n",
              "      <td>NC_006107.5</td>\n",
              "      <td>76641</td>\n",
              "      <td>93864</td>\n",
              "      <td>L3MBTL1</td>\n",
              "      <td>minus</td>\n",
              "      <td>419115</td>\n",
              "      <td>NaN</td>\n",
              "    </tr>\n",
              "    <tr>\n",
              "      <th>2</th>\n",
              "      <td>NC_006107.5</td>\n",
              "      <td>119215</td>\n",
              "      <td>123854</td>\n",
              "      <td>SRSF6</td>\n",
              "      <td>minus</td>\n",
              "      <td>419116</td>\n",
              "      <td>serine/arginine-rich splicing factor 6</td>\n",
              "    </tr>\n",
              "    <tr>\n",
              "      <th>3</th>\n",
              "      <td>NC_006107.5</td>\n",
              "      <td>187678</td>\n",
              "      <td>257245</td>\n",
              "      <td>EPB41L1</td>\n",
              "      <td>plus</td>\n",
              "      <td>419117</td>\n",
              "      <td>NaN</td>\n",
              "    </tr>\n",
              "    <tr>\n",
              "      <th>4</th>\n",
              "      <td>NC_006107.5</td>\n",
              "      <td>256427</td>\n",
              "      <td>296024</td>\n",
              "      <td>AAR2</td>\n",
              "      <td>plus</td>\n",
              "      <td>419118</td>\n",
              "      <td>AAR2 splicing factor homolog</td>\n",
              "    </tr>\n",
              "    <tr>\n",
              "      <th>...</th>\n",
              "      <td>...</td>\n",
              "      <td>...</td>\n",
              "      <td>...</td>\n",
              "      <td>...</td>\n",
              "      <td>...</td>\n",
              "      <td>...</td>\n",
              "      <td>...</td>\n",
              "    </tr>\n",
              "    <tr>\n",
              "      <th>451</th>\n",
              "      <td>NC_006107.5</td>\n",
              "      <td>13795911</td>\n",
              "      <td>13801004</td>\n",
              "      <td>RNF114</td>\n",
              "      <td>minus</td>\n",
              "      <td>414881</td>\n",
              "      <td>ring finger protein 114</td>\n",
              "    </tr>\n",
              "    <tr>\n",
              "      <th>452</th>\n",
              "      <td>NC_006107.5</td>\n",
              "      <td>13801269</td>\n",
              "      <td>13807900</td>\n",
              "      <td>SPATA2</td>\n",
              "      <td>plus</td>\n",
              "      <td>419355</td>\n",
              "      <td>spermatogenesis associated 2</td>\n",
              "    </tr>\n",
              "    <tr>\n",
              "      <th>453</th>\n",
              "      <td>NC_006107.5</td>\n",
              "      <td>13817409</td>\n",
              "      <td>13817494</td>\n",
              "      <td>MIR1648</td>\n",
              "      <td>plus</td>\n",
              "      <td>100315762</td>\n",
              "      <td>microRNA 1648</td>\n",
              "    </tr>\n",
              "    <tr>\n",
              "      <th>454</th>\n",
              "      <td>NC_006107.5</td>\n",
              "      <td>13824723</td>\n",
              "      <td>13847411</td>\n",
              "      <td>SLC9A8</td>\n",
              "      <td>minus</td>\n",
              "      <td>419356</td>\n",
              "      <td>solute carrier family 9 member A8</td>\n",
              "    </tr>\n",
              "    <tr>\n",
              "      <th>455</th>\n",
              "      <td>NC_006107.5</td>\n",
              "      <td>13861484</td>\n",
              "      <td>13888405</td>\n",
              "      <td>B4GALT5</td>\n",
              "      <td>plus</td>\n",
              "      <td>107054826</td>\n",
              "      <td>NaN</td>\n",
              "    </tr>\n",
              "  </tbody>\n",
              "</table>\n",
              "<p>456 rows × 7 columns</p>\n",
              "</div>\n",
              "      <button class=\"colab-df-convert\" onclick=\"convertToInteractive('df-9f7efde7-8d2e-42fd-a28f-11aa3786964e')\"\n",
              "              title=\"Convert this dataframe to an interactive table.\"\n",
              "              style=\"display:none;\">\n",
              "        \n",
              "  <svg xmlns=\"http://www.w3.org/2000/svg\" height=\"24px\"viewBox=\"0 0 24 24\"\n",
              "       width=\"24px\">\n",
              "    <path d=\"M0 0h24v24H0V0z\" fill=\"none\"/>\n",
              "    <path d=\"M18.56 5.44l.94 2.06.94-2.06 2.06-.94-2.06-.94-.94-2.06-.94 2.06-2.06.94zm-11 1L8.5 8.5l.94-2.06 2.06-.94-2.06-.94L8.5 2.5l-.94 2.06-2.06.94zm10 10l.94 2.06.94-2.06 2.06-.94-2.06-.94-.94-2.06-.94 2.06-2.06.94z\"/><path d=\"M17.41 7.96l-1.37-1.37c-.4-.4-.92-.59-1.43-.59-.52 0-1.04.2-1.43.59L10.3 9.45l-7.72 7.72c-.78.78-.78 2.05 0 2.83L4 21.41c.39.39.9.59 1.41.59.51 0 1.02-.2 1.41-.59l7.78-7.78 2.81-2.81c.8-.78.8-2.07 0-2.86zM5.41 20L4 18.59l7.72-7.72 1.47 1.35L5.41 20z\"/>\n",
              "  </svg>\n",
              "      </button>\n",
              "      \n",
              "  <style>\n",
              "    .colab-df-container {\n",
              "      display:flex;\n",
              "      flex-wrap:wrap;\n",
              "      gap: 12px;\n",
              "    }\n",
              "\n",
              "    .colab-df-convert {\n",
              "      background-color: #E8F0FE;\n",
              "      border: none;\n",
              "      border-radius: 50%;\n",
              "      cursor: pointer;\n",
              "      display: none;\n",
              "      fill: #1967D2;\n",
              "      height: 32px;\n",
              "      padding: 0 0 0 0;\n",
              "      width: 32px;\n",
              "    }\n",
              "\n",
              "    .colab-df-convert:hover {\n",
              "      background-color: #E2EBFA;\n",
              "      box-shadow: 0px 1px 2px rgba(60, 64, 67, 0.3), 0px 1px 3px 1px rgba(60, 64, 67, 0.15);\n",
              "      fill: #174EA6;\n",
              "    }\n",
              "\n",
              "    [theme=dark] .colab-df-convert {\n",
              "      background-color: #3B4455;\n",
              "      fill: #D2E3FC;\n",
              "    }\n",
              "\n",
              "    [theme=dark] .colab-df-convert:hover {\n",
              "      background-color: #434B5C;\n",
              "      box-shadow: 0px 1px 3px 1px rgba(0, 0, 0, 0.15);\n",
              "      filter: drop-shadow(0px 1px 2px rgba(0, 0, 0, 0.3));\n",
              "      fill: #FFFFFF;\n",
              "    }\n",
              "  </style>\n",
              "\n",
              "      <script>\n",
              "        const buttonEl =\n",
              "          document.querySelector('#df-9f7efde7-8d2e-42fd-a28f-11aa3786964e button.colab-df-convert');\n",
              "        buttonEl.style.display =\n",
              "          google.colab.kernel.accessAllowed ? 'block' : 'none';\n",
              "\n",
              "        async function convertToInteractive(key) {\n",
              "          const element = document.querySelector('#df-9f7efde7-8d2e-42fd-a28f-11aa3786964e');\n",
              "          const dataTable =\n",
              "            await google.colab.kernel.invokeFunction('convertToInteractive',\n",
              "                                                     [key], {});\n",
              "          if (!dataTable) return;\n",
              "\n",
              "          const docLinkHtml = 'Like what you see? Visit the ' +\n",
              "            '<a target=\"_blank\" href=https://colab.research.google.com/notebooks/data_table.ipynb>data table notebook</a>'\n",
              "            + ' to learn more about interactive tables.';\n",
              "          element.innerHTML = '';\n",
              "          dataTable['output_type'] = 'display_data';\n",
              "          await google.colab.output.renderOutput(dataTable, element);\n",
              "          const docLink = document.createElement('div');\n",
              "          docLink.innerHTML = docLinkHtml;\n",
              "          element.appendChild(docLink);\n",
              "        }\n",
              "      </script>\n",
              "    </div>\n",
              "  </div>\n",
              "  "
            ]
          },
          "metadata": {}
        }
      ]
    },
    {
      "cell_type": "code",
      "source": [
        "gene_count = 0\n",
        "intersection_count = 0\n",
        "intergenic_count = 0\n",
        "for index2, row2 in res.iterrows():\n",
        "  gene_hit = 0\n",
        "  intersection_hit = 0\n",
        "  for index1, row1 in table.iterrows():\n",
        "    if row2[\"Start\"] >=  row1[\"Start\"] and row2[\"End\"] <= row1[\"Stop\"]:\n",
        "      gene_hit = 1\n",
        "      break\n",
        "    elif (row2[\"Start\"] >= row1[\"Start\"] and row2[\"Start\"] <= row1[\"Stop\"]) or (row2[\"End\"] >= row1[\"Start\"] and row2[\"End\"] <= row1[\"Stop\"]):\n",
        "      intersection_hit = 1\n",
        "  if gene_hit:\n",
        "      gene_count+=1\n",
        "  elif intersection_hit:\n",
        "    intersection_count+=1\n",
        "  else:\n",
        "    intergenic_count+=1\n",
        "print(gene_count)\n",
        "print(intersection_count)\n",
        "print(intergenic_count)"
      ],
      "metadata": {
        "colab": {
          "base_uri": "https://localhost:8080/"
        },
        "id": "-RNVhQzjoDNz",
        "outputId": "4db0a030-ad38-4334-a49d-eb6e917e484d"
      },
      "execution_count": 30,
      "outputs": [
        {
          "output_type": "stream",
          "name": "stdout",
          "text": [
            "21748\n",
            "373\n",
            "13965\n"
          ]
        }
      ]
    },
    {
      "cell_type": "code",
      "source": [
        "print(gene_count/len(res)*100)\n",
        "print(intergenic_count/len(res)*100)\n",
        "print(intersection_count/len(res)*100)"
      ],
      "metadata": {
        "id": "T_W3oPV5JHyk",
        "colab": {
          "base_uri": "https://localhost:8080/"
        },
        "outputId": "fe4075a8-f918-4019-be57-6abcec2cb429"
      },
      "execution_count": null,
      "outputs": [
        {
          "output_type": "stream",
          "name": "stdout",
          "text": [
            "60.26713961092944\n",
            "38.6992185335033\n",
            "1.033641855567256\n"
          ]
        }
      ]
    },
    {
      "cell_type": "markdown",
      "source": [
        "60,3% z-днк попадают в гены,\n",
        "38,7% z-днк попадают в межгеное пространство,\n",
        "1% z-днк попадает в пересечение"
      ],
      "metadata": {
        "id": "vTc1vw9_ezpi"
      }
    },
    {
      "cell_type": "code",
      "source": [
        "gene_count = 0\n",
        "intersection_count = 0\n",
        "intergenic_count = 0\n",
        "for row2 in G4:\n",
        "  gene_hit = 0\n",
        "  intersection_hit = 0\n",
        "  for index1, row1 in table.iterrows():\n",
        "    if row2[0] >=  row1[\"Start\"] and row2[1] <= row1[\"Stop\"]:\n",
        "      gene_hit = 1\n",
        "      break\n",
        "    elif (row2[0] >= row1[\"Start\"] and row2[0] <= row1[\"Stop\"]) or (row2[1] >= row1[\"Start\"] and row2[1] <= row1[\"Stop\"]):\n",
        "      intersection_hit = 1\n",
        "  if gene_hit:\n",
        "      gene_count+=1\n",
        "  elif intersection_hit:\n",
        "    intersection_count+=1\n",
        "  else:\n",
        "    intergenic_count+=1\n",
        "print(gene_count)\n",
        "print(intersection_count)\n",
        "print(intergenic_count)\n",
        "  "
      ],
      "metadata": {
        "colab": {
          "base_uri": "https://localhost:8080/"
        },
        "id": "Uwkbl-10zJdM",
        "outputId": "6cbef503-4142-445f-fa2d-f118bd42eec1"
      },
      "execution_count": 60,
      "outputs": [
        {
          "output_type": "stream",
          "name": "stdout",
          "text": [
            "1886\n",
            "27\n",
            "1080\n"
          ]
        }
      ]
    },
    {
      "cell_type": "code",
      "source": [
        "print(gene_count/len(G4)*100)\n",
        "print(intergenic_count/len(G4)*100)\n",
        "print(intersection_count/len(G4)*100)"
      ],
      "metadata": {
        "colab": {
          "base_uri": "https://localhost:8080/"
        },
        "id": "YjbNABRQ0gUI",
        "outputId": "b88256f4-297e-4a5f-b12c-3bbda34d2451"
      },
      "execution_count": 62,
      "outputs": [
        {
          "output_type": "stream",
          "name": "stdout",
          "text": [
            "63.013698630136986\n",
            "36.08419645840294\n",
            "0.9021049114600734\n"
          ]
        }
      ]
    },
    {
      "cell_type": "markdown",
      "source": [
        "63% квадруплексов попадают в гены, 36% квадруплексов попадают в межгеное пространство, 0.9% квадруплексов попадает в пересечение"
      ],
      "metadata": {
        "id": "1IySdD1ehoNO"
      }
    },
    {
      "cell_type": "code",
      "source": [
        "promoter_names = []\n",
        "promoter_starts = []\n",
        "promoter_ends = []\n",
        "for index, row in table.iterrows():\n",
        "  if row[\"Strand\"] == \"plus\":\n",
        "    promoter_names.append(row[\"Gene symbol\"])\n",
        "    promoter_starts.append(row[\"Start\"]-1000)\n",
        "    promoter_ends.append(row[\"Start\"])\n",
        "  if row[\"Strand\"] == \"minus\":\n",
        "    promoter_names.append(row[\"Gene symbol\"])\n",
        "    promoter_starts.append(row[\"Start\"])\n",
        "    promoter_ends.append(row[\"Start\"]+1000)"
      ],
      "metadata": {
        "id": "9j9yensY0zOJ"
      },
      "execution_count": 46,
      "outputs": []
    },
    {
      "cell_type": "code",
      "source": [
        "print(promoter_starts)\n",
        "print(promoter_ends)"
      ],
      "metadata": {
        "colab": {
          "base_uri": "https://localhost:8080/"
        },
        "id": "6Ts78iPbSfY-",
        "outputId": "78546938-72e1-43d2-ce90-c49b265fdabe"
      },
      "execution_count": 47,
      "outputs": [
        {
          "output_type": "stream",
          "name": "stdout",
          "text": [
            "[70558, 76641, 119215, 186678, 255427, 315103, 438322, 477158, 483271, 485849, 493851, 496720, 520841, 560718, 565878, 600455, 621418, 630014, 638622, 654886, 658642, 680594, 765131, 828509, 839126, 895380, 903547, 977605, 983084, 998740, 1026890, 1030053, 1061506, 1062494, 1078706, 1078716, 1122962, 1159065, 1180450, 1188538, 1215851, 1254929, 1274269, 1333629, 1358767, 1366140, 1419424, 1422870, 1436200, 1451735, 1458845, 1529232, 1547822, 1567238, 1667700, 1689069, 1709366, 1938216, 2000275, 2006395, 2010364, 2073710, 2120742, 2146536, 2160706, 2165643, 2176137, 2181993, 2208409, 2272654, 2299286, 2517821, 2539619, 2543313, 2556331, 2591000, 2603245, 2623446, 2633595, 2669027, 2837187, 3167217, 3291913, 3390518, 3426190, 3445995, 3611963, 3626252, 3630044, 3642069, 3658587, 3694821, 3733585, 3737686, 3765932, 3813506, 3821376, 3825903, 4137830, 4311875, 4361046, 4381090, 4444981, 4554027, 4601622, 4690672, 4748891, 4756442, 4784500, 4834314, 4895639, 4931004, 4940558, 4971781, 5018735, 5042193, 5046615, 5056969, 5065299, 5086327, 5089902, 5094848, 5101995, 5103487, 5120205, 5126360, 5147691, 5154013, 5169365, 5173637, 5184345, 5223562, 5231075, 5242539, 5277011, 5327545, 5336816, 5354077, 5369169, 5376609, 5394592, 5403488, 5416830, 5434431, 5447804, 5464984, 5477688, 5490057, 5492048, 5501887, 5511601, 5527069, 5532680, 5539382, 5549893, 5579109, 5579964, 5666328, 5728427, 5764172, 5828943, 5915963, 6068356, 6188168, 6365365, 6400875, 6433901, 6465302, 6466380, 6467372, 6468025, 6486032, 6519796, 6640190, 6657924, 6674587, 6689200, 6697519, 6708245, 6714180, 6715283, 6734429, 6834329, 6853752, 6864366, 6869530, 7235143, 7620188, 7672642, 7720691, 7736025, 7740772, 7756087, 7771311, 7776146, 7823525, 7831104, 7935113, 7938691, 7961340, 7978966, 8019682, 8118909, 8123308, 8124612, 8134529, 8148422, 8151632, 8178843, 8226325, 8322108, 8322174, 8340126, 8371744, 8414871, 8430479, 8436294, 8441317, 8485908, 8535223, 8536553, 8643767, 8691479, 8701741, 8713450, 8729908, 8784015, 8806030, 8820365, 8871294, 8923609, 9001255, 9020800, 9035311, 9079547, 9101442, 9152016, 9184759, 9207222, 9222703, 9239246, 9251328, 9270709, 9318793, 9326680, 9334909, 9351557, 9379598, 9396969, 9406606, 9411770, 9441468, 9457313, 9476263, 9488214, 9505910, 9507874, 9520439, 9535064, 9535965, 9568014, 9609613, 9616039, 9622062, 9628090, 9650494, 9658919, 9680397, 9694811, 9711480, 9731083, 9755774, 9764409, 9779475, 9785421, 9800499, 9801514, 9806241, 9821163, 9835720, 9845168, 9855117, 9862300, 9867426, 9878192, 9885275, 9892984, 9900062, 9903252, 9909690, 9916652, 9921333, 9926660, 9934278, 9957609, 9968211, 9971253, 9971499, 9974984, 9982604, 9988436, 9989600, 10006180, 10008624, 10015061, 10033266, 10050629, 10061578, 10063697, 10066007, 10068953, 10074746, 10087612, 10091564, 10099945, 10103822, 10111836, 10111830, 10127483, 10141926, 10146879, 10157661, 10175588, 10193716, 10240466, 10248877, 10263074, 10274118, 10296177, 10302109, 10309739, 10316106, 10324103, 10333408, 10341003, 10351333, 10366598, 10381358, 10400926, 10415497, 10428122, 10476475, 10482742, 10484368, 10487568, 10494827, 10495326, 10499227, 10502752, 10507112, 10509450, 10510924, 10512860, 10516572, 10518011, 10520942, 10525564, 10532986, 10537741, 10549744, 10555671, 10571564, 10576209, 10602360, 10620293, 10647698, 10726442, 10731820, 10749447, 10753849, 10799441, 10840354, 10871028, 10873417, 10885062, 10887341, 10894375, 10895483, 10901830, 10914821, 10944293, 11061618, 11074102, 11156604, 11174597, 11193095, 11209362, 11229671, 11249104, 11262589, 11339534, 11362599, 11498475, 11546757, 11554555, 11590333, 11595229, 11615331, 11628015, 11637658, 11646409, 11646962, 11680928, 11685893, 11740131, 11938479, 11969388, 11975790, 12011422, 12019659, 12027561, 12037114, 12057799, 12106276, 12112869, 12254687, 12335201, 12337071, 12347508, 12365947, 12379308, 12440199, 12525939, 12547001, 12569821, 12646191, 12730862, 12794711, 12990935, 13004431, 13062144, 13074092, 13076816, 13086625, 13106696, 13169665, 13277588, 13360415, 13383016, 13383749, 13398785, 13401009, 13465479, 13477289, 13534791, 13575698, 13708222, 13715784, 13737033, 13790862, 13792247, 13795911, 13800269, 13816409, 13824723, 13860484]\n",
            "[71558, 77641, 120215, 187678, 256427, 316103, 439322, 478158, 484271, 486849, 494851, 497720, 521841, 561718, 566878, 601455, 622418, 631014, 639622, 655886, 659642, 681594, 766131, 829509, 840126, 896380, 904547, 978605, 984084, 999740, 1027890, 1031053, 1062506, 1063494, 1079706, 1079716, 1123962, 1160065, 1181450, 1189538, 1216851, 1255929, 1275269, 1334629, 1359767, 1367140, 1420424, 1423870, 1437200, 1452735, 1459845, 1530232, 1548822, 1568238, 1668700, 1690069, 1710366, 1939216, 2001275, 2007395, 2011364, 2074710, 2121742, 2147536, 2161706, 2166643, 2177137, 2182993, 2209409, 2273654, 2300286, 2518821, 2540619, 2544313, 2557331, 2592000, 2604245, 2624446, 2634595, 2670027, 2838187, 3168217, 3292913, 3391518, 3427190, 3446995, 3612963, 3627252, 3631044, 3643069, 3659587, 3695821, 3734585, 3738686, 3766932, 3814506, 3822376, 3826903, 4138830, 4312875, 4362046, 4382090, 4445981, 4555027, 4602622, 4691672, 4749891, 4757442, 4785500, 4835314, 4896639, 4932004, 4941558, 4972781, 5019735, 5043193, 5047615, 5057969, 5066299, 5087327, 5090902, 5095848, 5102995, 5104487, 5121205, 5127360, 5148691, 5155013, 5170365, 5174637, 5185345, 5224562, 5232075, 5243539, 5278011, 5328545, 5337816, 5355077, 5370169, 5377609, 5395592, 5404488, 5417830, 5435431, 5448804, 5465984, 5478688, 5491057, 5493048, 5502887, 5512601, 5528069, 5533680, 5540382, 5550893, 5580109, 5580964, 5667328, 5729427, 5765172, 5829943, 5916963, 6069356, 6189168, 6366365, 6401875, 6434901, 6466302, 6467380, 6468372, 6469025, 6487032, 6520796, 6641190, 6658924, 6675587, 6690200, 6698519, 6709245, 6715180, 6716283, 6735429, 6835329, 6854752, 6865366, 6870530, 7236143, 7621188, 7673642, 7721691, 7737025, 7741772, 7757087, 7772311, 7777146, 7824525, 7832104, 7936113, 7939691, 7962340, 7979966, 8020682, 8119909, 8124308, 8125612, 8135529, 8149422, 8152632, 8179843, 8227325, 8323108, 8323174, 8341126, 8372744, 8415871, 8431479, 8437294, 8442317, 8486908, 8536223, 8537553, 8644767, 8692479, 8702741, 8714450, 8730908, 8785015, 8807030, 8821365, 8872294, 8924609, 9002255, 9021800, 9036311, 9080547, 9102442, 9153016, 9185759, 9208222, 9223703, 9240246, 9252328, 9271709, 9319793, 9327680, 9335909, 9352557, 9380598, 9397969, 9407606, 9412770, 9442468, 9458313, 9477263, 9489214, 9506910, 9508874, 9521439, 9536064, 9536965, 9569014, 9610613, 9617039, 9623062, 9629090, 9651494, 9659919, 9681397, 9695811, 9712480, 9732083, 9756774, 9765409, 9780475, 9786421, 9801499, 9802514, 9807241, 9822163, 9836720, 9846168, 9856117, 9863300, 9868426, 9879192, 9886275, 9893984, 9901062, 9904252, 9910690, 9917652, 9922333, 9927660, 9935278, 9958609, 9969211, 9972253, 9972499, 9975984, 9983604, 9989436, 9990600, 10007180, 10009624, 10016061, 10034266, 10051629, 10062578, 10064697, 10067007, 10069953, 10075746, 10088612, 10092564, 10100945, 10104822, 10112836, 10112830, 10128483, 10142926, 10147879, 10158661, 10176588, 10194716, 10241466, 10249877, 10264074, 10275118, 10297177, 10303109, 10310739, 10317106, 10325103, 10334408, 10342003, 10352333, 10367598, 10382358, 10401926, 10416497, 10429122, 10477475, 10483742, 10485368, 10488568, 10495827, 10496326, 10500227, 10503752, 10508112, 10510450, 10511924, 10513860, 10517572, 10519011, 10521942, 10526564, 10533986, 10538741, 10550744, 10556671, 10572564, 10577209, 10603360, 10621293, 10648698, 10727442, 10732820, 10750447, 10754849, 10800441, 10841354, 10872028, 10874417, 10886062, 10888341, 10895375, 10896483, 10902830, 10915821, 10945293, 11062618, 11075102, 11157604, 11175597, 11194095, 11210362, 11230671, 11250104, 11263589, 11340534, 11363599, 11499475, 11547757, 11555555, 11591333, 11596229, 11616331, 11629015, 11638658, 11647409, 11647962, 11681928, 11686893, 11741131, 11939479, 11970388, 11976790, 12012422, 12020659, 12028561, 12038114, 12058799, 12107276, 12113869, 12255687, 12336201, 12338071, 12348508, 12366947, 12380308, 12441199, 12526939, 12548001, 12570821, 12647191, 12731862, 12795711, 12991935, 13005431, 13063144, 13075092, 13077816, 13087625, 13107696, 13170665, 13278588, 13361415, 13384016, 13384749, 13399785, 13402009, 13466479, 13478289, 13535791, 13576698, 13709222, 13716784, 13738033, 13791862, 13793247, 13796911, 13801269, 13817409, 13825723, 13861484]\n"
          ]
        }
      ]
    },
    {
      "cell_type": "code",
      "source": [
        "!unzip chr20.fa.zip"
      ],
      "metadata": {
        "colab": {
          "base_uri": "https://localhost:8080/"
        },
        "id": "24qDuPss2vZX",
        "outputId": "f883de8c-067c-413f-bde6-27752275a50b"
      },
      "execution_count": 22,
      "outputs": [
        {
          "output_type": "stream",
          "name": "stdout",
          "text": [
            "Archive:  chr20.fa.zip\n",
            "  inflating: chr20.fa.Z-SCORE        \n"
          ]
        }
      ]
    },
    {
      "cell_type": "markdown",
      "source": [
        "4. Cписок генов, в промоторы которых попадает Z-ДНК:"
      ],
      "metadata": {
        "id": "FTJCGCiJbRCX"
      }
    },
    {
      "cell_type": "code",
      "source": [
        "for i in range(len(promoter_names)):\n",
        "  for index, row in res.iterrows():\n",
        "    if row[\"Start\"] >= promoter_starts[i] and  row[\"End\"] <= promoter_ends[i]:\n",
        "      print(promoter_names[i])\n",
        "      break\n",
        "\n",
        "  "
      ],
      "metadata": {
        "colab": {
          "base_uri": "https://localhost:8080/"
        },
        "id": "VQnwteaXH-4a",
        "outputId": "9e67f852-183f-42f3-e84a-41fb54e458e3"
      },
      "execution_count": 50,
      "outputs": [
        {
          "output_type": "stream",
          "name": "stdout",
          "text": [
            "DLGAP4\n",
            "LOC112530104\n",
            "TGIF2\n",
            "LOC112530107\n",
            "MYL9\n",
            "C20H20ORF24\n",
            "NCOA6\n",
            "LOC112530130\n",
            "TP53INP2\n",
            "LOC107054815\n",
            "RBL1\n",
            "RALGAPB\n",
            "SLA2\n",
            "PHF20\n",
            "TRNAE-UUC\n",
            "NFS1\n",
            "CPNE1\n",
            "RBM12\n",
            "FER1L4\n",
            "DDEFL1\n",
            "GDF5\n",
            "UQCC1\n",
            "EIF6\n",
            "MAP1LC3A\n",
            "MIR1453\n",
            "AHCY\n",
            "ASIP\n",
            "EIF2S2\n",
            "RALY\n",
            "ZNF341\n",
            "PXMP4\n",
            "E2F1\n",
            "NECAB3\n",
            "CBFA2T2\n",
            "SNTA1\n",
            "EDEM2\n",
            "TRPC4AP\n",
            "MYH7B\n",
            "GSS\n",
            "SOGA1\n",
            "PTPRT\n",
            "LOC101749104\n",
            "LOC101749307\n",
            "FAM83D\n",
            "LOC101750504\n",
            "TOP1\n",
            "PLCG1\n",
            "MIR1614\n",
            "EMILIN3\n",
            "RPN2\n",
            "SRC\n",
            "PIGT\n",
            "DBNDD2\n",
            "TP53TG5\n",
            "SDC4\n",
            "TOMM34\n",
            "R3HDML\n",
            "LOC107057318\n",
            "OSER1\n",
            "TP53RK\n",
            "SLC2A10\n",
            "NCOA3\n",
            "CSE1L\n",
            "SNORD12C\n",
            "LOC112529916\n",
            "LOC107054873\n",
            "ZNFX1\n",
            "PHACTR3\n",
            "FAM217B\n",
            "CDH4\n",
            "LOC107054870\n",
            "LSM14B\n",
            "SS18L1\n",
            "OSBPL2\n",
            "MIR1-1\n",
            "LOC112530111\n",
            "NTSR1\n",
            "MRGBP\n",
            "OGFR\n",
            "COL9A3\n",
            "MIR6567\n",
            "MIR1746\n",
            "BIRC7\n",
            "DEPTOR\n",
            "CHRNA4\n",
            "KCNQ2\n",
            "EEF1A2\n",
            "PPDPF\n",
            "LOC107054863\n",
            "LOC107054862\n",
            "LOC419250\n",
            "RGS19\n",
            "SOX18\n",
            "LOC100858256\n",
            "SAMD10\n",
            "LOC107054857\n",
            "UCKL1\n",
            "LOC107054856\n",
            "ZBTB46\n",
            "SLC2A4RG\n",
            "LIME1\n",
            "ZGPAT\n",
            "ARFRP1\n",
            "TNFRSF6B\n",
            "STMN3\n",
            "PDYN\n",
            "SIRPA\n",
            "FKBP1C\n",
            "SNPH\n",
            "LOC112530133\n",
            "TMEM74B\n",
            "RSPO4\n",
            "ANGPT4\n",
            "LOC112530115\n",
            "FAM110A\n",
            "SLC52A3\n",
            "SRXN1\n",
            "TCF15\n",
            "CSNK2A1\n",
            "TBC1D20\n",
            "SOX12\n",
            "LOC101748049\n",
            "C20H20orf96\n",
            "REM1\n",
            "LOC101748448\n",
            "HM13\n",
            "ID1\n",
            "BPIL\n",
            "BCL2L1\n",
            "TPX2\n",
            "IRF9\n",
            "LOC771689\n",
            "TTLL9\n",
            "XKR7\n",
            "PLAGL2\n",
            "POFUT1\n",
            "KIF3B\n",
            "ASXL1\n",
            "C20H20ORF112\n",
            "LOC107054851\n",
            "DNMT3B\n",
            "MAPRE1\n",
            "BPIL3\n",
            "BPIFB4\n",
            "LBP\n",
            "KIAA1755\n",
            "TGM2\n",
            "RPRD1B\n",
            "VSTM2L\n",
            "LOC771972\n",
            "WFDC2\n",
            "WFDC8\n",
            "SPINT4\n",
            "LOC107054850\n",
            "LOC771994\n",
            "DNTTIP1\n",
            "UBE2C\n",
            "TNNC2\n",
            "ACOT8\n",
            "CTSA\n",
            "ZSWIM1\n",
            "NEURL2\n",
            "PCIF1\n",
            "LOC107054849\n",
            "ZNF335\n",
            "MMP9\n",
            "CDH22\n",
            "SLC35C2\n",
            "SNRPL\n",
            "PRELID3B\n",
            "CTSZ\n",
            "MIR6597\n",
            "GNAS\n",
            "PPP4R1L\n",
            "C20H20ORF85\n",
            "PMEPA1\n",
            "RBM38\n",
            "LOC107054840\n",
            "BMP7\n",
            "LOC107054843\n",
            "AURKA\n",
            "CBLN4\n",
            "LOC107054835\n",
            "LOC107054832\n",
            "LOC101751795\n",
            "ZFP64\n",
            "LOC112530112\n",
            "SALL4\n",
            "ATP9A\n",
            "NFATC2\n",
            "DPM1\n",
            "ADNP\n",
            "FAM65C\n",
            "LOC107054829\n",
            "CEBPB\n",
            "TMEM189\n",
            "UBE2V1\n",
            "SNAI1\n",
            "SPATA2\n",
            "B4GALT5\n"
          ]
        }
      ]
    },
    {
      "cell_type": "markdown",
      "source": [
        "5.Cписок генов, в промоторы которых попадает квадруплексы."
      ],
      "metadata": {
        "id": "HmCyjbNWjnuo"
      }
    },
    {
      "cell_type": "code",
      "source": [
        "for i in range(len(promoter_names)):\n",
        "  for item in G4:\n",
        "    if item[0] >= promoter_starts[i] and item[1] <= promoter_ends[i]:\n",
        "      print(promoter_names[i])\n",
        "      break\n"
      ],
      "metadata": {
        "colab": {
          "base_uri": "https://localhost:8080/"
        },
        "id": "mPTqfuagd0t1",
        "outputId": "9ce59acc-1791-45ce-d27d-e6b078dc1e37"
      },
      "execution_count": 64,
      "outputs": [
        {
          "output_type": "stream",
          "name": "stdout",
          "text": [
            "SRSF6\n",
            "EPB41L1\n",
            "DLGAP4\n",
            "TGIF2\n",
            "LOC112530107\n",
            "MYL9\n",
            "NCOA6\n",
            "LOC107054815\n",
            "RALGAPB\n",
            "LOC107057310\n",
            "PHF20\n",
            "NFS1\n",
            "CPNE1\n",
            "RBM12\n",
            "DDEFL1\n",
            "AHCY\n",
            "EIF2S2\n",
            "RALY\n",
            "LOC107054897\n",
            "PXMP4\n",
            "E2F1\n",
            "SNTA1\n",
            "EDEM2\n",
            "MYH7B\n",
            "GSS\n",
            "PTPRT\n",
            "LOC101749307\n",
            "ARHGAP40\n",
            "PPP1R16B\n",
            "MAFB\n",
            "SDC4\n",
            "RBPJL\n",
            "MATN4\n",
            "PI3\n",
            "KCNS1\n",
            "TOMM34\n",
            "RIMS4\n",
            "ADA\n",
            "SERINC3\n",
            "HNF4A\n",
            "R3HDML\n",
            "LOC112530126\n",
            "LOC107054877\n",
            "TP53RK\n",
            "SLC2A10\n",
            "STAU1\n",
            "SNORD12C\n",
            "FAM217B\n",
            "CDH4\n",
            "LSM14B\n",
            "SS18L1\n",
            "OSBPL2\n",
            "ADRM1\n",
            "RBBP8NL\n",
            "MIR1-1\n",
            "SLCO4A1\n",
            "LOC771200\n",
            "LOC112530118\n",
            "MIR124-3\n",
            "YTHDF1\n",
            "BIRC7\n",
            "ARFGAP1\n",
            "DEPTOR\n",
            "LOC107054822\n",
            "NPBWR2\n",
            "RGS19\n",
            "SOX18\n",
            "LOC100858256\n",
            "C20H20orf204\n",
            "PRPF6\n",
            "SAMD10\n",
            "ZNF512B\n",
            "UCKL1\n",
            "LOC107054855\n",
            "LOC107054856\n",
            "TPD52L2\n",
            "ZBTB46\n",
            "SLC2A4RG\n",
            "LIME1\n",
            "STMN3\n",
            "GMEB2\n",
            "HELZ2\n",
            "STK35\n",
            "TPPNR1L\n",
            "SIRPA\n",
            "NSFL1C\n",
            "FKBP1C\n",
            "SNPH\n",
            "TMEM74B\n",
            "LOC107054820\n",
            "RSPO4\n",
            "ANGPT4\n",
            "SLC52A3\n",
            "SCRT2\n",
            "SRXN1\n",
            "TCF15\n",
            "TBC1D20\n",
            "NRSN2\n",
            "SOX12\n",
            "LOC101748049\n",
            "C20H20orf96\n",
            "REM1\n",
            "HM13\n",
            "ID1\n",
            "BPIL\n",
            "TPX2\n",
            "FOXS1\n",
            "IRF9\n",
            "LOC771689\n",
            "TTLL9\n",
            "XKR7\n",
            "CCM2L\n",
            "HCK\n",
            "POFUT1\n",
            "KIF3B\n",
            "C20H20ORF112\n",
            "LOC107054851\n",
            "COMMD7\n",
            "DNMT3B\n",
            "MAPRE1\n",
            "LBP\n",
            "TGM2\n",
            "TTI1\n",
            "VSTM2L\n",
            "WFDC2L\n",
            "WFDC2\n",
            "WFDC8\n",
            "LOC107054850\n",
            "UBE2C\n",
            "LOC107054848\n",
            "SNX21\n",
            "CTSA\n",
            "PCIF1\n",
            "SLC12A5\n",
            "CD40\n",
            "SNRPL\n",
            "PMEPA1\n",
            "LOC107054839\n",
            "LOC107054842\n",
            "LOC107054840\n",
            "BMP7\n",
            "AURKA\n",
            "LOC107054836\n",
            "CYP24A1\n",
            "LOC107054835\n",
            "MIR1687\n",
            "SALL4\n",
            "ATP9A\n",
            "ADNP\n",
            "LOC107054829\n",
            "CEBPB\n",
            "TMEM189\n",
            "SPATA2\n",
            "MIR1648\n"
          ]
        }
      ]
    }
  ],
  "metadata": {
    "colab": {
      "provenance": []
    },
    "kernelspec": {
      "display_name": "Python 3",
      "name": "python3"
    },
    "language_info": {
      "name": "python"
    }
  },
  "nbformat": 4,
  "nbformat_minor": 0
}